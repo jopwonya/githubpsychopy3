{
 "cells": [
  {
   "cell_type": "code",
   "execution_count": 1,
   "metadata": {},
   "outputs": [
    {
     "name": "stdout",
     "output_type": "stream",
     "text": [
      "Do you want to start Y/N: Y\n",
      "The first number is: 8\n",
      "8.0\n",
      "The second number is: 9\n",
      "9.0\n",
      "Choose your operation (+,-,/,*): -\n",
      "-1.0\n",
      " Do you want to continue Y/N: Y\n",
      "The first number is: 0\n",
      "0.0\n",
      "The second number is: 5\n",
      "5.0\n",
      "Choose your operation (+,-,/,*): /\n",
      "0.0\n",
      " Do you want to continue Y/N: N\n",
      "Good Bye\n"
     ]
    }
   ],
   "source": [
    "op=input(\"Do you want to start Y/N: \")\n",
    "while(op==\"Y\"):\n",
    "    a=input(\"The first number is: \")\n",
    "    a=float(a)\n",
    "    print(a)\n",
    "    b= input(\"The second number is: \")\n",
    "    b=float(b)\n",
    "    print(b)\n",
    "    c=input(\"Choose your operation (+,-,/,*): \")\n",
    "    if c==\"+\":\n",
    "      print(a+b)\n",
    "    elif c==\"-\":\n",
    "      print(a-b)\n",
    "    elif c==\"*\":\n",
    "      print(a*b)\n",
    "    elif c==\"/\":\n",
    "        if b==0:\n",
    "            print('Error')\n",
    "        else:\n",
    "            print(a/b)\n",
    "    else:\n",
    "        print(\"Error! There is no such operation\")\n",
    "    op=input(\" Do you want to continue Y/N: \")\n",
    "print(\"Good Bye\")\n",
    "    \n",
    "    "
   ]
  },
  {
   "cell_type": "code",
   "execution_count": null,
   "metadata": {},
   "outputs": [],
   "source": []
  }
 ],
 "metadata": {
  "kernelspec": {
   "display_name": "Python 3",
   "language": "python",
   "name": "python3"
  },
  "language_info": {
   "codemirror_mode": {
    "name": "ipython",
    "version": 3
   },
   "file_extension": ".py",
   "mimetype": "text/x-python",
   "name": "python",
   "nbconvert_exporter": "python",
   "pygments_lexer": "ipython3",
   "version": "3.7.1"
  }
 },
 "nbformat": 4,
 "nbformat_minor": 2
}
